{
  "cells": [
    {
      "cell_type": "markdown",
      "id": "25d7736c-ba17-4aff-b6bb-66eba20fbf4e",
      "metadata": {
        "id": "25d7736c-ba17-4aff-b6bb-66eba20fbf4e"
      },
      "source": [
        "# Lab | Data Structuring and Combining Data"
      ]
    },
    {
      "cell_type": "markdown",
      "id": "a2cdfc70-44c8-478c-81e7-2bc43fdf4986",
      "metadata": {
        "id": "a2cdfc70-44c8-478c-81e7-2bc43fdf4986"
      },
      "source": [
        "## Challenge 1: Combining & Cleaning Data\n",
        "\n",
        "In this challenge, we will be working with the customer data from an insurance company, as we did in the two previous labs. The data can be found here:\n",
        "- https://raw.githubusercontent.com/data-bootcamp-v4/data/main/file1.csv\n",
        "\n",
        "But this time, we got new data, which can be found in the following 2 CSV files located at the links below.\n",
        "\n",
        "- https://raw.githubusercontent.com/data-bootcamp-v4/data/main/file2.csv\n",
        "- https://raw.githubusercontent.com/data-bootcamp-v4/data/main/file3.csv\n",
        "\n",
        "Note that you'll need to clean and format the new data.\n",
        "\n",
        "Observation:\n",
        "- One option is to first combine the three datasets and then apply the cleaning function to the new combined dataset\n",
        "- Another option would be to read the clean file you saved in the previous lab, and just clean the two new files and concatenate the three clean datasets"
      ]
    },
    {
      "cell_type": "code",
      "execution_count": 20,
      "id": "492d06e3-92c7-4105-ac72-536db98d3244",
      "metadata": {
        "id": "492d06e3-92c7-4105-ac72-536db98d3244"
      },
      "outputs": [],
      "source": [
        "import pandas as pd\n",
        "\n",
        "url1=\"https://raw.githubusercontent.com/data-bootcamp-v4/data/main/file1.csv\"\n",
        "url2=\"https://raw.githubusercontent.com/data-bootcamp-v4/data/main/file2.csv\"\n",
        "url3=\"https://raw.githubusercontent.com/data-bootcamp-v4/data/main/file3.csv\"\n",
        "\n",
        "\n",
        "df1=pd.read_csv(url1)\n",
        "df2=pd.read_csv(url2)\n",
        "df3=pd.read_csv(url3)\n",
        "\n"
      ]
    },
    {
      "cell_type": "code",
      "source": [
        "df1.dropna(inplace=True, thresh=3)\n",
        "df2.dropna(inplace=True, thresh=3)\n",
        "\n",
        "df=pd.concat([df1,df2]).reset_index(drop=True)\n",
        "df[\"GENDER\"].unique()\n",
        "\n",
        "\n"
      ],
      "metadata": {
        "colab": {
          "base_uri": "https://localhost:8080/"
        },
        "id": "CoybwmkxFPWE",
        "outputId": "9977e8f2-edc4-42af-cf5b-a8984826d6aa"
      },
      "id": "CoybwmkxFPWE",
      "execution_count": 21,
      "outputs": [
        {
          "output_type": "execute_result",
          "data": {
            "text/plain": [
              "array([nan, 'F', 'M', 'Femal', 'Male', 'female'], dtype=object)"
            ]
          },
          "metadata": {},
          "execution_count": 21
        }
      ]
    },
    {
      "cell_type": "code",
      "source": [],
      "metadata": {
        "id": "RCF1jUSiHT9L"
      },
      "id": "RCF1jUSiHT9L",
      "execution_count": 21,
      "outputs": []
    },
    {
      "cell_type": "code",
      "source": [
        "comb.dropna(inplace=True, thresh=3)\n"
      ],
      "metadata": {
        "id": "-didIIoEGkin"
      },
      "id": "-didIIoEGkin",
      "execution_count": 22,
      "outputs": []
    },
    {
      "cell_type": "code",
      "source": [
        "df.columns=[name.lower() for name in df.columns]\n",
        "df.columns=[name.replace(\" \",\"_\") for name in df.columns]\n",
        "df = df.rename(columns={\"st\":\"state\"})\n",
        "\n",
        "print(df.loc[:,\"gender\"].unique())\n",
        "\n",
        "rename_gender={\"Femal\":\"F\", \"Male\":\"M\", \"female\":\"F\", \"F\":\"F\", \"M\":\"M\"}\n",
        "df[\"gender\"]=df[\"gender\"].map(rename_gender)\n",
        "print(df.loc[:,\"gender\"].unique())\n",
        "\n",
        "print(df.loc[:,\"state\"].unique())\n",
        "\n",
        "rename_state={\"AZ\":\"Arizona\", \"WA\":\"Washington\",\"Cali\":\"California\", \"Nevada\":\"Nevada\", \"Oregon\":\"Oregon\"}\n",
        "df[\"state\"]=df[\"state\"].map(rename_state)\n",
        "print(df.loc[:,\"state\"].unique())\n",
        "\n",
        "print(df.loc[:,\"education\"].unique())\n",
        "rename_ed={\"Bachelors\":\"Bachelor\"},\n",
        "df[\"education\"]=df[\"education\"].apply(lambda x: \"Bachelor\" if x==\"Bachelors\" else x)\n",
        "\n",
        "print(df.loc[:,\"education\"].unique())"
      ],
      "metadata": {
        "colab": {
          "base_uri": "https://localhost:8080/"
        },
        "id": "B8roySnUHcaQ",
        "outputId": "cc5c674f-2541-4bd0-f16f-8046be2ff4f3"
      },
      "id": "B8roySnUHcaQ",
      "execution_count": 23,
      "outputs": [
        {
          "output_type": "stream",
          "name": "stdout",
          "text": [
            "[nan 'F' 'M' 'Femal' 'Male' 'female']\n",
            "[nan 'F' 'M']\n",
            "['Washington' 'Arizona' 'Nevada' 'California' 'Oregon' 'Cali' 'AZ' 'WA']\n",
            "[nan 'Nevada' 'Oregon' 'California' 'Arizona' 'Washington']\n",
            "['Master' 'Bachelor' 'High School or Below' 'College' 'Bachelors' 'Doctor']\n",
            "['Master' 'Bachelor' 'High School or Below' 'College' 'Doctor']\n"
          ]
        }
      ]
    },
    {
      "cell_type": "markdown",
      "id": "31b8a9e7-7db9-4604-991b-ef6771603e57",
      "metadata": {
        "id": "31b8a9e7-7db9-4604-991b-ef6771603e57"
      },
      "source": [
        "# Challenge 2: Structuring Data"
      ]
    },
    {
      "cell_type": "markdown",
      "id": "a877fd6d-7a0c-46d2-9657-f25036e4ca4b",
      "metadata": {
        "id": "a877fd6d-7a0c-46d2-9657-f25036e4ca4b"
      },
      "source": [
        "In this challenge, we will continue to work with customer data from an insurance company, but we will use a dataset with more columns, called marketing_customer_analysis.csv, which can be found at the following link:\n",
        "\n",
        "https://raw.githubusercontent.com/data-bootcamp-v4/data/main/marketing_customer_analysis_clean.csv\n",
        "\n",
        "This dataset contains information such as customer demographics, policy details, vehicle information, and the customer's response to the last marketing campaign. Our goal is to explore and analyze this data by performing data cleaning, formatting, and structuring."
      ]
    },
    {
      "cell_type": "code",
      "execution_count": 41,
      "id": "aa10d9b0-1c27-4d3f-a8e4-db6ab73bfd26",
      "metadata": {
        "id": "aa10d9b0-1c27-4d3f-a8e4-db6ab73bfd26",
        "colab": {
          "base_uri": "https://localhost:8080/",
          "height": 161
        },
        "outputId": "e8499764-f6a3-4901-c2c2-001cebea07ec"
      },
      "outputs": [
        {
          "output_type": "execute_result",
          "data": {
            "text/plain": [
              "education     Bachelor      College       Doctor  High School or Below  \\\n",
              "gender                                                                   \n",
              "F          7874.269478  7748.823325  7328.508916           8675.220201   \n",
              "M          7703.601675  8052.459288  7415.333638           8149.687783   \n",
              "\n",
              "education       Master  \n",
              "gender                  \n",
              "F          8157.053154  \n",
              "M          8168.832659  "
            ],
            "text/html": [
              "\n",
              "  <div id=\"df-ed313d82-c39f-461b-a124-d5fccb8608e2\" class=\"colab-df-container\">\n",
              "    <div>\n",
              "<style scoped>\n",
              "    .dataframe tbody tr th:only-of-type {\n",
              "        vertical-align: middle;\n",
              "    }\n",
              "\n",
              "    .dataframe tbody tr th {\n",
              "        vertical-align: top;\n",
              "    }\n",
              "\n",
              "    .dataframe thead th {\n",
              "        text-align: right;\n",
              "    }\n",
              "</style>\n",
              "<table border=\"1\" class=\"dataframe\">\n",
              "  <thead>\n",
              "    <tr style=\"text-align: right;\">\n",
              "      <th>education</th>\n",
              "      <th>Bachelor</th>\n",
              "      <th>College</th>\n",
              "      <th>Doctor</th>\n",
              "      <th>High School or Below</th>\n",
              "      <th>Master</th>\n",
              "    </tr>\n",
              "    <tr>\n",
              "      <th>gender</th>\n",
              "      <th></th>\n",
              "      <th></th>\n",
              "      <th></th>\n",
              "      <th></th>\n",
              "      <th></th>\n",
              "    </tr>\n",
              "  </thead>\n",
              "  <tbody>\n",
              "    <tr>\n",
              "      <th>F</th>\n",
              "      <td>7874.269478</td>\n",
              "      <td>7748.823325</td>\n",
              "      <td>7328.508916</td>\n",
              "      <td>8675.220201</td>\n",
              "      <td>8157.053154</td>\n",
              "    </tr>\n",
              "    <tr>\n",
              "      <th>M</th>\n",
              "      <td>7703.601675</td>\n",
              "      <td>8052.459288</td>\n",
              "      <td>7415.333638</td>\n",
              "      <td>8149.687783</td>\n",
              "      <td>8168.832659</td>\n",
              "    </tr>\n",
              "  </tbody>\n",
              "</table>\n",
              "</div>\n",
              "    <div class=\"colab-df-buttons\">\n",
              "\n",
              "  <div class=\"colab-df-container\">\n",
              "    <button class=\"colab-df-convert\" onclick=\"convertToInteractive('df-ed313d82-c39f-461b-a124-d5fccb8608e2')\"\n",
              "            title=\"Convert this dataframe to an interactive table.\"\n",
              "            style=\"display:none;\">\n",
              "\n",
              "  <svg xmlns=\"http://www.w3.org/2000/svg\" height=\"24px\" viewBox=\"0 -960 960 960\">\n",
              "    <path d=\"M120-120v-720h720v720H120Zm60-500h600v-160H180v160Zm220 220h160v-160H400v160Zm0 220h160v-160H400v160ZM180-400h160v-160H180v160Zm440 0h160v-160H620v160ZM180-180h160v-160H180v160Zm440 0h160v-160H620v160Z\"/>\n",
              "  </svg>\n",
              "    </button>\n",
              "\n",
              "  <style>\n",
              "    .colab-df-container {\n",
              "      display:flex;\n",
              "      gap: 12px;\n",
              "    }\n",
              "\n",
              "    .colab-df-convert {\n",
              "      background-color: #E8F0FE;\n",
              "      border: none;\n",
              "      border-radius: 50%;\n",
              "      cursor: pointer;\n",
              "      display: none;\n",
              "      fill: #1967D2;\n",
              "      height: 32px;\n",
              "      padding: 0 0 0 0;\n",
              "      width: 32px;\n",
              "    }\n",
              "\n",
              "    .colab-df-convert:hover {\n",
              "      background-color: #E2EBFA;\n",
              "      box-shadow: 0px 1px 2px rgba(60, 64, 67, 0.3), 0px 1px 3px 1px rgba(60, 64, 67, 0.15);\n",
              "      fill: #174EA6;\n",
              "    }\n",
              "\n",
              "    .colab-df-buttons div {\n",
              "      margin-bottom: 4px;\n",
              "    }\n",
              "\n",
              "    [theme=dark] .colab-df-convert {\n",
              "      background-color: #3B4455;\n",
              "      fill: #D2E3FC;\n",
              "    }\n",
              "\n",
              "    [theme=dark] .colab-df-convert:hover {\n",
              "      background-color: #434B5C;\n",
              "      box-shadow: 0px 1px 3px 1px rgba(0, 0, 0, 0.15);\n",
              "      filter: drop-shadow(0px 1px 2px rgba(0, 0, 0, 0.3));\n",
              "      fill: #FFFFFF;\n",
              "    }\n",
              "  </style>\n",
              "\n",
              "    <script>\n",
              "      const buttonEl =\n",
              "        document.querySelector('#df-ed313d82-c39f-461b-a124-d5fccb8608e2 button.colab-df-convert');\n",
              "      buttonEl.style.display =\n",
              "        google.colab.kernel.accessAllowed ? 'block' : 'none';\n",
              "\n",
              "      async function convertToInteractive(key) {\n",
              "        const element = document.querySelector('#df-ed313d82-c39f-461b-a124-d5fccb8608e2');\n",
              "        const dataTable =\n",
              "          await google.colab.kernel.invokeFunction('convertToInteractive',\n",
              "                                                    [key], {});\n",
              "        if (!dataTable) return;\n",
              "\n",
              "        const docLinkHtml = 'Like what you see? Visit the ' +\n",
              "          '<a target=\"_blank\" href=https://colab.research.google.com/notebooks/data_table.ipynb>data table notebook</a>'\n",
              "          + ' to learn more about interactive tables.';\n",
              "        element.innerHTML = '';\n",
              "        dataTable['output_type'] = 'display_data';\n",
              "        await google.colab.output.renderOutput(dataTable, element);\n",
              "        const docLink = document.createElement('div');\n",
              "        docLink.innerHTML = docLinkHtml;\n",
              "        element.appendChild(docLink);\n",
              "      }\n",
              "    </script>\n",
              "  </div>\n",
              "\n",
              "\n",
              "<div id=\"df-b210a818-aab8-44fe-8382-ac3a9c4e618e\">\n",
              "  <button class=\"colab-df-quickchart\" onclick=\"quickchart('df-b210a818-aab8-44fe-8382-ac3a9c4e618e')\"\n",
              "            title=\"Suggest charts\"\n",
              "            style=\"display:none;\">\n",
              "\n",
              "<svg xmlns=\"http://www.w3.org/2000/svg\" height=\"24px\"viewBox=\"0 0 24 24\"\n",
              "     width=\"24px\">\n",
              "    <g>\n",
              "        <path d=\"M19 3H5c-1.1 0-2 .9-2 2v14c0 1.1.9 2 2 2h14c1.1 0 2-.9 2-2V5c0-1.1-.9-2-2-2zM9 17H7v-7h2v7zm4 0h-2V7h2v10zm4 0h-2v-4h2v4z\"/>\n",
              "    </g>\n",
              "</svg>\n",
              "  </button>\n",
              "\n",
              "<style>\n",
              "  .colab-df-quickchart {\n",
              "      --bg-color: #E8F0FE;\n",
              "      --fill-color: #1967D2;\n",
              "      --hover-bg-color: #E2EBFA;\n",
              "      --hover-fill-color: #174EA6;\n",
              "      --disabled-fill-color: #AAA;\n",
              "      --disabled-bg-color: #DDD;\n",
              "  }\n",
              "\n",
              "  [theme=dark] .colab-df-quickchart {\n",
              "      --bg-color: #3B4455;\n",
              "      --fill-color: #D2E3FC;\n",
              "      --hover-bg-color: #434B5C;\n",
              "      --hover-fill-color: #FFFFFF;\n",
              "      --disabled-bg-color: #3B4455;\n",
              "      --disabled-fill-color: #666;\n",
              "  }\n",
              "\n",
              "  .colab-df-quickchart {\n",
              "    background-color: var(--bg-color);\n",
              "    border: none;\n",
              "    border-radius: 50%;\n",
              "    cursor: pointer;\n",
              "    display: none;\n",
              "    fill: var(--fill-color);\n",
              "    height: 32px;\n",
              "    padding: 0;\n",
              "    width: 32px;\n",
              "  }\n",
              "\n",
              "  .colab-df-quickchart:hover {\n",
              "    background-color: var(--hover-bg-color);\n",
              "    box-shadow: 0 1px 2px rgba(60, 64, 67, 0.3), 0 1px 3px 1px rgba(60, 64, 67, 0.15);\n",
              "    fill: var(--button-hover-fill-color);\n",
              "  }\n",
              "\n",
              "  .colab-df-quickchart-complete:disabled,\n",
              "  .colab-df-quickchart-complete:disabled:hover {\n",
              "    background-color: var(--disabled-bg-color);\n",
              "    fill: var(--disabled-fill-color);\n",
              "    box-shadow: none;\n",
              "  }\n",
              "\n",
              "  .colab-df-spinner {\n",
              "    border: 2px solid var(--fill-color);\n",
              "    border-color: transparent;\n",
              "    border-bottom-color: var(--fill-color);\n",
              "    animation:\n",
              "      spin 1s steps(1) infinite;\n",
              "  }\n",
              "\n",
              "  @keyframes spin {\n",
              "    0% {\n",
              "      border-color: transparent;\n",
              "      border-bottom-color: var(--fill-color);\n",
              "      border-left-color: var(--fill-color);\n",
              "    }\n",
              "    20% {\n",
              "      border-color: transparent;\n",
              "      border-left-color: var(--fill-color);\n",
              "      border-top-color: var(--fill-color);\n",
              "    }\n",
              "    30% {\n",
              "      border-color: transparent;\n",
              "      border-left-color: var(--fill-color);\n",
              "      border-top-color: var(--fill-color);\n",
              "      border-right-color: var(--fill-color);\n",
              "    }\n",
              "    40% {\n",
              "      border-color: transparent;\n",
              "      border-right-color: var(--fill-color);\n",
              "      border-top-color: var(--fill-color);\n",
              "    }\n",
              "    60% {\n",
              "      border-color: transparent;\n",
              "      border-right-color: var(--fill-color);\n",
              "    }\n",
              "    80% {\n",
              "      border-color: transparent;\n",
              "      border-right-color: var(--fill-color);\n",
              "      border-bottom-color: var(--fill-color);\n",
              "    }\n",
              "    90% {\n",
              "      border-color: transparent;\n",
              "      border-bottom-color: var(--fill-color);\n",
              "    }\n",
              "  }\n",
              "</style>\n",
              "\n",
              "  <script>\n",
              "    async function quickchart(key) {\n",
              "      const quickchartButtonEl =\n",
              "        document.querySelector('#' + key + ' button');\n",
              "      quickchartButtonEl.disabled = true;  // To prevent multiple clicks.\n",
              "      quickchartButtonEl.classList.add('colab-df-spinner');\n",
              "      try {\n",
              "        const charts = await google.colab.kernel.invokeFunction(\n",
              "            'suggestCharts', [key], {});\n",
              "      } catch (error) {\n",
              "        console.error('Error during call to suggestCharts:', error);\n",
              "      }\n",
              "      quickchartButtonEl.classList.remove('colab-df-spinner');\n",
              "      quickchartButtonEl.classList.add('colab-df-quickchart-complete');\n",
              "    }\n",
              "    (() => {\n",
              "      let quickchartButtonEl =\n",
              "        document.querySelector('#df-b210a818-aab8-44fe-8382-ac3a9c4e618e button');\n",
              "      quickchartButtonEl.style.display =\n",
              "        google.colab.kernel.accessAllowed ? 'block' : 'none';\n",
              "    })();\n",
              "  </script>\n",
              "</div>\n",
              "\n",
              "  <div id=\"id_a58a4a8a-c36e-432c-80c7-3538477655d9\">\n",
              "    <style>\n",
              "      .colab-df-generate {\n",
              "        background-color: #E8F0FE;\n",
              "        border: none;\n",
              "        border-radius: 50%;\n",
              "        cursor: pointer;\n",
              "        display: none;\n",
              "        fill: #1967D2;\n",
              "        height: 32px;\n",
              "        padding: 0 0 0 0;\n",
              "        width: 32px;\n",
              "      }\n",
              "\n",
              "      .colab-df-generate:hover {\n",
              "        background-color: #E2EBFA;\n",
              "        box-shadow: 0px 1px 2px rgba(60, 64, 67, 0.3), 0px 1px 3px 1px rgba(60, 64, 67, 0.15);\n",
              "        fill: #174EA6;\n",
              "      }\n",
              "\n",
              "      [theme=dark] .colab-df-generate {\n",
              "        background-color: #3B4455;\n",
              "        fill: #D2E3FC;\n",
              "      }\n",
              "\n",
              "      [theme=dark] .colab-df-generate:hover {\n",
              "        background-color: #434B5C;\n",
              "        box-shadow: 0px 1px 3px 1px rgba(0, 0, 0, 0.15);\n",
              "        filter: drop-shadow(0px 1px 2px rgba(0, 0, 0, 0.3));\n",
              "        fill: #FFFFFF;\n",
              "      }\n",
              "    </style>\n",
              "    <button class=\"colab-df-generate\" onclick=\"generateWithVariable('df_pivot2')\"\n",
              "            title=\"Generate code using this dataframe.\"\n",
              "            style=\"display:none;\">\n",
              "\n",
              "  <svg xmlns=\"http://www.w3.org/2000/svg\" height=\"24px\"viewBox=\"0 0 24 24\"\n",
              "       width=\"24px\">\n",
              "    <path d=\"M7,19H8.4L18.45,9,17,7.55,7,17.6ZM5,21V16.75L18.45,3.32a2,2,0,0,1,2.83,0l1.4,1.43a1.91,1.91,0,0,1,.58,1.4,1.91,1.91,0,0,1-.58,1.4L9.25,21ZM18.45,9,17,7.55Zm-12,3A5.31,5.31,0,0,0,4.9,8.1,5.31,5.31,0,0,0,1,6.5,5.31,5.31,0,0,0,4.9,4.9,5.31,5.31,0,0,0,6.5,1,5.31,5.31,0,0,0,8.1,4.9,5.31,5.31,0,0,0,12,6.5,5.46,5.46,0,0,0,6.5,12Z\"/>\n",
              "  </svg>\n",
              "    </button>\n",
              "    <script>\n",
              "      (() => {\n",
              "      const buttonEl =\n",
              "        document.querySelector('#id_a58a4a8a-c36e-432c-80c7-3538477655d9 button.colab-df-generate');\n",
              "      buttonEl.style.display =\n",
              "        google.colab.kernel.accessAllowed ? 'block' : 'none';\n",
              "\n",
              "      buttonEl.onclick = () => {\n",
              "        google.colab.notebook.generateWithVariable('df_pivot2');\n",
              "      }\n",
              "      })();\n",
              "    </script>\n",
              "  </div>\n",
              "\n",
              "    </div>\n",
              "  </div>\n"
            ],
            "application/vnd.google.colaboratory.intrinsic+json": {
              "type": "dataframe",
              "variable_name": "df_pivot2",
              "summary": "{\n  \"name\": \"df_pivot2\",\n  \"rows\": 2,\n  \"fields\": [\n    {\n      \"column\": \"gender\",\n      \"properties\": {\n        \"dtype\": \"string\",\n        \"num_unique_values\": 2,\n        \"samples\": [\n          \"M\",\n          \"F\"\n        ],\n        \"semantic_type\": \"\",\n        \"description\": \"\"\n      }\n    },\n    {\n      \"column\": \"Bachelor\",\n      \"properties\": {\n        \"dtype\": \"number\",\n        \"std\": 120.68036077822833,\n        \"min\": 7703.601674828881,\n        \"max\": 7874.26947775353,\n        \"num_unique_values\": 2,\n        \"samples\": [\n          7703.601674828881,\n          7874.26947775353\n        ],\n        \"semantic_type\": \"\",\n        \"description\": \"\"\n      }\n    },\n    {\n      \"column\": \"College\",\n      \"properties\": {\n        \"dtype\": \"number\",\n        \"std\": 214.70304837562023,\n        \"min\": 7748.823324954602,\n        \"max\": 8052.459287850251,\n        \"num_unique_values\": 2,\n        \"samples\": [\n          8052.459287850251,\n          7748.823324954602\n        ],\n        \"semantic_type\": \"\",\n        \"description\": \"\"\n      }\n    },\n    {\n      \"column\": \"Doctor\",\n      \"properties\": {\n        \"dtype\": \"number\",\n        \"std\": 61.39435013525002,\n        \"min\": 7328.508915515,\n        \"max\": 7415.333638129353,\n        \"num_unique_values\": 2,\n        \"samples\": [\n          7415.333638129353,\n          7328.508915515\n        ],\n        \"semantic_type\": \"\",\n        \"description\": \"\"\n      }\n    },\n    {\n      \"column\": \"High School or Below\",\n      \"properties\": {\n        \"dtype\": \"number\",\n        \"std\": 371.6075366260782,\n        \"min\": 8149.687782797558,\n        \"max\": 8675.220200974214,\n        \"num_unique_values\": 2,\n        \"samples\": [\n          8149.687782797558,\n          8675.220200974214\n        ],\n        \"semantic_type\": \"\",\n        \"description\": \"\"\n      }\n    },\n    {\n      \"column\": \"Master\",\n      \"properties\": {\n        \"dtype\": \"number\",\n        \"std\": 8.329368195451336,\n        \"min\": 8157.053153743158,\n        \"max\": 8168.832659211164,\n        \"num_unique_values\": 2,\n        \"samples\": [\n          8168.832659211164,\n          8157.053153743158\n        ],\n        \"semantic_type\": \"\",\n        \"description\": \"\"\n      }\n    }\n  ]\n}"
            }
          },
          "metadata": {},
          "execution_count": 41
        }
      ],
      "source": [
        "url4=\"https://raw.githubusercontent.com/data-bootcamp-v4/data/main/marketing_customer_analysis_clean.csv\"\n",
        "\n",
        "dfmore=pd.read_csv(url4)\n",
        "\n",
        "dfmore.head()\n",
        "\n",
        "\n",
        "#dfmore.groupby(\"customer\")[\"effective_to_date\"].sum()\n",
        "df_pivot1=dfmore.pivot_table(index=\"sales_channel\", values=\"customer_lifetime_value\", aggfunc=\"sum\")\n",
        "df_pivot1\n",
        "\n",
        "dfmore.columns\n",
        "\n",
        "df_pivot2=dfmore.pivot_table(index=\"gender\", columns=\"education\", values=\"customer_lifetime_value\", aggfunc=\"mean\")\n",
        "df_pivot2"
      ]
    },
    {
      "cell_type": "markdown",
      "id": "df35fd0d-513e-4e77-867e-429da10a9cc7",
      "metadata": {
        "id": "df35fd0d-513e-4e77-867e-429da10a9cc7"
      },
      "source": [
        "1. You work at the marketing department and you want to know which sales channel brought the most sales in terms of total revenue. Using pivot, create a summary table showing the total revenue for each sales channel (branch, call center, web, and mail).\n",
        "Round the total revenue to 2 decimal points.  Analyze the resulting table to draw insights."
      ]
    },
    {
      "cell_type": "markdown",
      "id": "640993b2-a291-436c-a34d-a551144f8196",
      "metadata": {
        "id": "640993b2-a291-436c-a34d-a551144f8196"
      },
      "source": [
        "2. Create a pivot table that shows the average customer lifetime value per gender and education level. Analyze the resulting table to draw insights."
      ]
    },
    {
      "cell_type": "markdown",
      "id": "32c7f2e5-3d90-43e5-be33-9781b6069198",
      "metadata": {
        "id": "32c7f2e5-3d90-43e5-be33-9781b6069198"
      },
      "source": [
        "## Bonus\n",
        "\n",
        "You work at the customer service department and you want to know which months had the highest number of complaints by policy type category. Create a summary table showing the number of complaints by policy type and month.\n",
        "Show it in a long format table."
      ]
    },
    {
      "cell_type": "markdown",
      "id": "e3d09a8f-953c-448a-a5f8-2e5a8cca7291",
      "metadata": {
        "id": "e3d09a8f-953c-448a-a5f8-2e5a8cca7291"
      },
      "source": [
        "*In data analysis, a long format table is a way of structuring data in which each observation or measurement is stored in a separate row of the table. The key characteristic of a long format table is that each column represents a single variable, and each row represents a single observation of that variable.*\n",
        "\n",
        "*More information about long and wide format tables here: https://www.statology.org/long-vs-wide-data/*"
      ]
    },
    {
      "cell_type": "code",
      "execution_count": null,
      "id": "3a069e0b-b400-470e-904d-d17582191be4",
      "metadata": {
        "id": "3a069e0b-b400-470e-904d-d17582191be4"
      },
      "outputs": [],
      "source": [
        "# Your code goes here"
      ]
    }
  ],
  "metadata": {
    "colab": {
      "provenance": []
    },
    "kernelspec": {
      "display_name": "Python 3 (ipykernel)",
      "language": "python",
      "name": "python3"
    },
    "language_info": {
      "codemirror_mode": {
        "name": "ipython",
        "version": 3
      },
      "file_extension": ".py",
      "mimetype": "text/x-python",
      "name": "python",
      "nbconvert_exporter": "python",
      "pygments_lexer": "ipython3",
      "version": "3.9.13"
    }
  },
  "nbformat": 4,
  "nbformat_minor": 5
}